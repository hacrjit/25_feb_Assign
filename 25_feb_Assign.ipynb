{
 "cells": [
  {
   "cell_type": "markdown",
   "id": "367123f2-eaeb-4c21-94d9-6b91d99f0fc8",
   "metadata": {},
   "source": [
    "### <b>Question No. 1</b>"
   ]
  },
  {
   "cell_type": "code",
   "execution_count": 1,
   "id": "69050e92-65c1-4238-a91d-f6b07462cda1",
   "metadata": {},
   "outputs": [
    {
     "name": "stdout",
     "output_type": "stream",
     "text": [
      "course_name    Machine Learning\n",
      "duration                      3\n",
      "Name: 1, dtype: object\n"
     ]
    }
   ],
   "source": [
    "import pandas as pd\n",
    "\n",
    "course_name = ['Data Science', 'Machine Learning', 'Big Data', 'Data Engineer']\n",
    "duration = [2, 3, 6, 4]\n",
    "df = pd.DataFrame(data={'course_name': course_name, 'duration': duration})\n",
    "\n",
    "print(df.iloc[1])"
   ]
  },
  {
   "cell_type": "markdown",
   "id": "9adaa4ac-d4a3-4b1c-b2b1-4b61f06b7c42",
   "metadata": {},
   "source": [
    "### <b>Question No. 2"
   ]
  },
  {
   "cell_type": "markdown",
   "id": "31745024-65b9-4288-aa56-e4df56b946a9",
   "metadata": {},
   "source": [
    "In Pandas, both `loc` and `iloc` are used to access rows and columns in a DataFrame, but they have some differences in how they work:\n",
    "\n",
    "1. `loc`: \n",
    "   - `loc` is label-based, which means you use column names and row indexes to access data.\n",
    "   - It is used to access a group of rows and columns by labels or a boolean array.\n",
    "   - The syntax for `loc` is `df.loc[row_label, column_label]` or `df.loc[row_label]` for accessing rows.\n",
    "   - Example: `df.loc[1]` would access the row with label `1`.\n",
    "\n",
    "2. `iloc`:\n",
    "   - `iloc` is integer-based, which means you use integer indexes to access data.\n",
    "   - It is used to access a group of rows and columns by integer position.\n",
    "   - The syntax for `iloc` is `df.iloc[row_index, column_index]` or `df.iloc[row_index]` for accessing rows.\n",
    "   - Example: `df.iloc[1]` would access the row at integer position `1`."
   ]
  },
  {
   "cell_type": "markdown",
   "id": "64c5cf8b-55ab-4eea-97b3-87d46b83114a",
   "metadata": {},
   "source": [
    "### <b>Question No. 3"
   ]
  },
  {
   "cell_type": "code",
   "execution_count": 2,
   "id": "ed00bf7b-41bf-4fef-be23-d4b58708a536",
   "metadata": {},
   "outputs": [
    {
     "name": "stdout",
     "output_type": "stream",
     "text": [
      "Output for new_df.loc[2]:\n",
      "course_name    Big Data\n",
      "duration              6\n",
      "Name: 2, dtype: object\n",
      "\n",
      "Output for new_df.iloc[2]:\n",
      "course_name    Machine Learning\n",
      "duration                      3\n",
      "Name: 1, dtype: object\n"
     ]
    }
   ],
   "source": [
    "import pandas as pd\n",
    "\n",
    "course_name = ['Data Science', 'Machine Learning', 'Big Data', 'Data Engineer']\n",
    "duration = [2, 3, 6, 4]\n",
    "df = pd.DataFrame(data={'course_name': course_name, 'duration': duration})\n",
    "\n",
    "reindex = [3, 0, 1, 2]\n",
    "new_df = df.reindex(reindex)\n",
    "\n",
    "# Output for new_df.loc[2] and new_df.iloc[2]\n",
    "print(\"Output for new_df.loc[2]:\")\n",
    "print(new_df.loc[2])\n",
    "\n",
    "print(\"\\nOutput for new_df.iloc[2]:\")\n",
    "print(new_df.iloc[2])"
   ]
  },
  {
   "cell_type": "markdown",
   "id": "0639a452-f597-4252-89a9-4721a92fec17",
   "metadata": {},
   "source": [
    "Yes, there is a difference in the outputs of `new_df.loc[2]` and `new_df.iloc[2]`:\n",
    "\n",
    "- `new_df.loc[2]`: This will access the row with label `2` in the `new_df` DataFrame. Since `new_df` was reindexed using `[3, 0, 1, 2]`, the label `2` now corresponds to the row that was originally at index `1` in the `df` DataFrame. Therefore, `new_df.loc[2]` will return the row that was originally at index `1` in `df`.\n",
    "\n",
    "- `new_df.iloc[2]`: This will access the row at integer position `2` in the `new_df` DataFrame. Since `new_df` was reindexed using `[3, 0, 1, 2]`, the row at integer position `2` in `new_df` corresponds to the row that was originally at index `3` in the `df` DataFrame. Therefore, `new_df.iloc[2]` will return the row that was originally at index `3` in `df`."
   ]
  },
  {
   "cell_type": "markdown",
   "id": "b83cf481-c324-4334-aa90-46319d1f9741",
   "metadata": {},
   "source": [
    "### <b>Question No. 4"
   ]
  },
  {
   "cell_type": "code",
   "execution_count": 3,
   "id": "70e7d59a-73bc-4e07-9b33-d02c7d952ff3",
   "metadata": {},
   "outputs": [],
   "source": [
    "import pandas as pd\n",
    "import numpy as np\n",
    "columns = ['column_1', 'column_2', 'column_3', 'column_4', 'column_5', 'column_6']\n",
    "indices = [1,2,3,4,5,6]\n",
    "#Creating a dataframe:\n",
    "df1 = pd.DataFrame(np.random.rand(6,6), columns = columns, index = indices)"
   ]
  },
  {
   "cell_type": "code",
   "execution_count": 4,
   "id": "0aa8497e-8b28-457f-9381-0e1a8e55f05a",
   "metadata": {},
   "outputs": [
    {
     "name": "stdout",
     "output_type": "stream",
     "text": [
      "Mean of each column:\n",
      "column_1    0.491351\n",
      "column_2    0.584507\n",
      "column_3    0.425594\n",
      "column_4    0.721963\n",
      "column_5    0.521050\n",
      "column_6    0.395570\n",
      "dtype: float64\n",
      "\n",
      "Standard deviation of column 'column_2': 0.29160244655088313\n"
     ]
    }
   ],
   "source": [
    "# (i) Mean of each column\n",
    "column_means = df1.mean()\n",
    "print(\"Mean of each column:\")\n",
    "print(column_means)\n",
    "\n",
    "# (ii) Standard deviation of column 'column_2'\n",
    "column2_std = df1['column_2'].std()\n",
    "print(\"\\nStandard deviation of column 'column_2':\", column2_std)"
   ]
  },
  {
   "cell_type": "markdown",
   "id": "b96bd76a-053b-4174-ac3a-bf4284c62504",
   "metadata": {},
   "source": [
    "### <b>Question No. 5"
   ]
  },
  {
   "cell_type": "code",
   "execution_count": 5,
   "id": "19fcb85c-90ad-4bf8-ac64-0cad9492d541",
   "metadata": {
    "scrolled": true
   },
   "outputs": [
    {
     "name": "stdout",
     "output_type": "stream",
     "text": [
      "Error: unsupported operand type(s) for +: 'float' and 'str'\n"
     ]
    },
    {
     "name": "stderr",
     "output_type": "stream",
     "text": [
      "/tmp/ipykernel_3432/1649873652.py:2: FutureWarning: Setting an item of incompatible dtype is deprecated and will raise an error in a future version of pandas. Value 'string_data' has dtype incompatible with float64, please explicitly cast to a compatible dtype first.\n",
      "  df1.loc[2, 'column_2'] = 'string_data'\n"
     ]
    }
   ],
   "source": [
    "# Replace data in the second row of 'column_2' with a string variable\n",
    "df1.loc[2, 'column_2'] = 'string_data'\n",
    "\n",
    "# Attempt to calculate the mean of 'column_2'\n",
    "try:\n",
    "    column2_mean = df1['column_2'].mean()\n",
    "    print(\"Mean of column 'column_2':\", column2_mean)\n",
    "except TypeError as e:\n",
    "    print(\"Error:\", e)"
   ]
  },
  {
   "cell_type": "markdown",
   "id": "b68fb438-0e99-4253-b312-d139cdb908ff",
   "metadata": {},
   "source": [
    "The code will raise a `TypeError` because the 'column_2' contains a string value, and Pandas cannot calculate the mean of a column with non-numeric data."
   ]
  },
  {
   "cell_type": "markdown",
   "id": "7a78d929-ef02-478b-9e71-2aa3810a3b0b",
   "metadata": {},
   "source": [
    "### <b>Question No. 6"
   ]
  },
  {
   "cell_type": "markdown",
   "id": "e61befc6-0546-4bd8-8ce8-14c55a9367fe",
   "metadata": {},
   "source": [
    "In Pandas, the `rolling` function provides functionality for window functions, which are used for calculating metrics over a rolling window of data. Window functions are useful for analyzing time series data or other ordered data where you want to calculate metrics over a fixed window size as it moves through the data.\n",
    "\n",
    "The `rolling` function creates a rolling window object, and you can then apply various aggregation functions to this object to calculate metrics. Some common aggregation functions used with rolling windows include `mean`, `sum`, `min`, `max`, `std` (standard deviation), etc.\n",
    "\n",
    "Here's a brief explanation of each:\n",
    "\n",
    "1. **mean**: Calculates the mean of the values in the window.\n",
    "2. **sum**: Calculates the sum of the values in the window.\n",
    "3. **min**: Finds the minimum value in the window.\n",
    "4. **max**: Finds the maximum value in the window.\n",
    "5. **std**: Calculates the standard deviation of the values in the window.\n",
    "6. **var**: Calculates the variance of the values in the window.\n",
    "7. **count**: Counts the number of non-null values in the window.\n",
    "8. **median**: Calculates the median of the values in the window.\n",
    "9. **quantile**: Calculates the quantile (e.g., 0.25 for the 25th percentile) of the values in the window.\n",
    "10. **apply**: Applies a custom function to the values in the window."
   ]
  },
  {
   "cell_type": "markdown",
   "id": "0b4994d8-b387-41fe-a506-73795a9e77ea",
   "metadata": {},
   "source": [
    "### <b>Question No. 7"
   ]
  },
  {
   "cell_type": "code",
   "execution_count": 6,
   "id": "a7e4534e-ef96-4d0e-9d88-bedab453206f",
   "metadata": {},
   "outputs": [
    {
     "name": "stdout",
     "output_type": "stream",
     "text": [
      "Current month: 3\n",
      "Current year: 2024\n"
     ]
    }
   ],
   "source": [
    "import datetime\n",
    "\n",
    "# Get the current date and time\n",
    "current_date = datetime.datetime.now()\n",
    "\n",
    "# Extract the month and year\n",
    "current_month = current_date.month\n",
    "current_year = current_date.year\n",
    "\n",
    "print(\"Current month:\", current_month)\n",
    "print(\"Current year:\", current_year)"
   ]
  },
  {
   "cell_type": "markdown",
   "id": "a5d31563-aa51-468f-9f2f-d1ec43b017e2",
   "metadata": {},
   "source": [
    "### <b>Question No. 8"
   ]
  },
  {
   "cell_type": "code",
   "execution_count": 9,
   "id": "00f6ec67-ac7f-4878-91af-c037961cacef",
   "metadata": {},
   "outputs": [
    {
     "name": "stdin",
     "output_type": "stream",
     "text": [
      "Enter the first date (YYYY-MM-DD):  2099-12-06\n",
      "Enter the second date (YYYY-MM-DD):  2099-12-06\n"
     ]
    },
    {
     "name": "stdout",
     "output_type": "stream",
     "text": [
      "The difference between the dates is: 0 days, 0 hours, and 0 minutes.\n"
     ]
    }
   ],
   "source": [
    "\n",
    "import pandas as pd\n",
    "\n",
    "# Function to calculate the difference between two dates\n",
    "def calculate_date_difference(date1, date2):\n",
    "    # Convert the dates to pandas datetime objects\n",
    "    date1 = pd.to_datetime(date1)\n",
    "    date2 = pd.to_datetime(date2)\n",
    "    \n",
    "    # Calculate the difference between the dates\n",
    "    timedelta = date2 - date1\n",
    "    \n",
    "    # Extract days, hours, and minutes from the timedelta\n",
    "    days = timedelta.days\n",
    "    hours, remainder = divmod(timedelta.seconds, 3600)\n",
    "    minutes, _ = divmod(remainder, 60)\n",
    "    \n",
    "    return days, hours, minutes\n",
    "\n",
    "# Prompt the user to enter the dates\n",
    "date1 = input(\"Enter the first date (YYYY-MM-DD): \")\n",
    "date2 = input(\"Enter the second date (YYYY-MM-DD): \")\n",
    "\n",
    "# Calculate the difference between the dates\n",
    "days, hours, minutes = calculate_date_difference(date1, date2)\n",
    "\n",
    "# Display the result\n",
    "print(f\"The difference between the dates is: {days} days, {hours} hours, and {minutes} minutes.\")"
   ]
  },
  {
   "cell_type": "markdown",
   "id": "f0fa39ed-16ea-4961-9750-b11f9e092369",
   "metadata": {},
   "source": [
    "### <b>Question No. 9"
   ]
  },
  {
   "cell_type": "code",
   "execution_count": 12,
   "id": "bdde7055-2e0b-4ba8-af26-52637a09a268",
   "metadata": {},
   "outputs": [
    {
     "name": "stdin",
     "output_type": "stream",
     "text": [
      "Enter the file path to the CSV file:  /home/hacrjit/PW Skills Assignment/youtube_videos_pw.csv\n",
      "Enter the column name to convert to categorical data type:  titles\n",
      "Enter the category order (comma-separated):  1,4,2,3,0\n"
     ]
    },
    {
     "name": "stdout",
     "output_type": "stream",
     "text": [
      "                                    video_urls  \\\n",
      "0  https://www.youtube.com/watch?v=brZBO9GFyuk   \n",
      "1  https://www.youtube.com/watch?v=brZBO9GFyuk   \n",
      "2  https://www.youtube.com/watch?v=brZBO9GFyuk   \n",
      "3  https://www.youtube.com/watch?v=brZBO9GFyuk   \n",
      "4  https://www.youtube.com/watch?v=dfqnSgSM8Ok   \n",
      "\n",
      "                                      thumbnail_urls titles   view_counts  \\\n",
      "0  https://i.ytimg.com/vi/brZBO9GFyuk/hqdefault.j...    NaN  10,536 views   \n",
      "1  https://i.ytimg.com/vi/dfqnSgSM8Ok/hqdefault.j...    NaN  18,235 views   \n",
      "2  https://i.ytimg.com/vi/xFPn1edoXCM/hqdefault.j...    NaN  36,022 views   \n",
      "3  https://i.ytimg.com/vi/0VrTiAxEtsg/hqdefault.j...    NaN  52,081 views   \n",
      "4  https://i.ytimg.com/vi/-XsPRMzUAe8/hqdefault.j...    NaN  14,575 views   \n",
      "\n",
      "  Time of Posting  \n",
      "0      1 hour ago  \n",
      "1     4 hours ago  \n",
      "2    23 hours ago  \n",
      "3       1 day ago  \n",
      "4       1 day ago  \n"
     ]
    }
   ],
   "source": [
    "import pandas as pd\n",
    "\n",
    "# Function to read the CSV file and convert specified column to categorical data type\n",
    "def convert_to_categorical(file_path, column_name, category_order):\n",
    "    # Read the CSV file\n",
    "    df = pd.read_csv(file_path)\n",
    "    \n",
    "    # Convert the specified column to categorical data type\n",
    "    df[column_name] = pd.Categorical(df[column_name], categories=category_order, ordered=True)\n",
    "    \n",
    "    # Display the sorted data\n",
    "    sorted_data = df.sort_values(by=column_name)\n",
    "    print(sorted_data)\n",
    "\n",
    "# Prompt the user to enter the file path, column name, and category order\n",
    "file_path = input(\"Enter the file path to the CSV file: \")\n",
    "column_name = input(\"Enter the column name to convert to categorical data type: \")\n",
    "category_order = input(\"Enter the category order (comma-separated): \").split(',')\n",
    "\n",
    "# Convert the specified column to categorical data type and display the sorted data\n",
    "convert_to_categorical(file_path, column_name, category_order)"
   ]
  },
  {
   "cell_type": "markdown",
   "id": "36260d16-b68f-4075-8475-4cc0afc49cc0",
   "metadata": {},
   "source": [
    "### <b>Question No. 10"
   ]
  },
  {
   "cell_type": "code",
   "execution_count": 16,
   "id": "e452d137-fa0a-4e25-b28a-04f2e8187980",
   "metadata": {},
   "outputs": [
    {
     "name": "stdin",
     "output_type": "stream",
     "text": [
      "Enter the file path to the CSV file:  /home/hacrjit/PW Skills Assignment/sales_data.csv\n"
     ]
    },
    {
     "data": {
      "image/png": "[encoded data removed]",
      "text/plain": [
       "<Figure size 1200x600 with 1 Axes>"
      ]
     },
     "metadata": {},
     "output_type": "display_data"
    }
   ],
   "source": [
    "import pandas as pd\n",
    "import matplotlib.pyplot as plt\n",
    "\n",
    "# Function to read the CSV file and plot the stacked bar chart\n",
    "def visualize_sales_data(file_path):\n",
    "    # Read the CSV file\n",
    "    df = pd.read_csv(file_path)\n",
    "    \n",
    "    # Convert the 'Date' column to datetime\n",
    "    df['Date'] = pd.to_datetime(df['Date'])\n",
    "    \n",
    "    # Pivot the data to get sales of each product category over time\n",
    "    pivoted_data = df.pivot(index='Date', columns='Product Category', values='Sales')\n",
    "    \n",
    "    # Plot the stacked bar chart\n",
    "    pivoted_data.plot(kind='bar', stacked=True, figsize=(12, 6))\n",
    "    plt.xlabel('Date')\n",
    "    plt.ylabel('Sales')\n",
    "    plt.title('Sales of Each Product Category Over Time')\n",
    "    plt.legend(title='Product Category')\n",
    "    plt.show()\n",
    "\n",
    "# Prompt the user to enter the file path\n",
    "file_path = input(\"Enter the file path to the CSV file: \")\n",
    "\n",
    "# Visualize the sales data using a stacked bar chart\n",
    "visualize_sales_data(file_path)"
   ]
  },
  {
   "cell_type": "markdown",
   "id": "aaa2e58f-7487-49d8-8628-0ab25859c55b",
   "metadata": {},
   "source": [
    "### <b>Question No. 11"
   ]
  },
  {
   "cell_type": "code",
   "execution_count": 18,
   "id": "ea84be15-8e6f-4aec-8b77-c81dc9eadcea",
   "metadata": {},
   "outputs": [
    {
     "name": "stdin",
     "output_type": "stream",
     "text": [
      "Enter the file path of the CSV file containing the student data:  /home/hacrjit/PW Skills Assignment/student_data.csv\n"
     ]
    },
    {
     "name": "stdout",
     "output_type": "stream",
     "text": [
      "+-----------+--------+\n",
      "| Statistic | Value  |\n",
      "+-----------+--------+\n",
      "| Mean      | 83.5   |\n",
      "+-----------+--------+\n",
      "| Median    | 85.0     |\n",
      "+-----------+--------+\n",
      "| Mode      | 85  |\n",
      "+-----------+--------+\n"
     ]
    }
   ],
   "source": [
    "import pandas as pd\n",
    "\n",
    "# Function to calculate mean, median, and mode of test scores\n",
    "def calculate_statistics(file_path):\n",
    "    # Read the CSV file into a DataFrame\n",
    "    df = pd.read_csv(file_path)\n",
    "    \n",
    "    # Calculate mean, median, and mode of test scores\n",
    "    mean_score = df['Test Score'].mean()\n",
    "    median_score = df['Test Score'].median()\n",
    "    mode_scores = df['Test Score'].mode().tolist()\n",
    "    \n",
    "    return mean_score, median_score, mode_scores\n",
    "\n",
    "# Function to display statistics in a table\n",
    "def display_statistics(mean_score, median_score, mode_scores):\n",
    "    print(\"+-----------+--------+\")\n",
    "    print(\"| Statistic | Value  |\")\n",
    "    print(\"+-----------+--------+\")\n",
    "    print(f\"| Mean      | {mean_score:.1f}   |\")\n",
    "    print(\"+-----------+--------+\")\n",
    "    print(f\"| Median    | {median_score}     |\")\n",
    "    print(\"+-----------+--------+\")\n",
    "    print(f\"| Mode      | {', '.join(map(str, mode_scores))}  |\")\n",
    "    print(\"+-----------+--------+\")\n",
    "\n",
    "# Prompt the user to enter the file path\n",
    "file_path = input(\"Enter the file path of the CSV file containing the student data: \")\n",
    "\n",
    "# Calculate mean, median, and mode of test scores\n",
    "mean_score, median_score, mode_scores = calculate_statistics(file_path)\n",
    "\n",
    "# Display statistics in a table\n",
    "display_statistics(mean_score, median_score, mode_scores)"
   ]
  }
 ],
 "metadata": {
  "kernelspec": {
   "display_name": "Python 3 (ipykernel)",
   "language": "python",
   "name": "python3"
  },
  "language_info": {
   "codemirror_mode": {
    "name": "ipython",
    "version": 3
   },
   "file_extension": ".py",
   "mimetype": "text/x-python",
   "name": "python",
   "nbconvert_exporter": "python",
   "pygments_lexer": "ipython3",
   "version": "3.10.12"
  }
 },
 "nbformat": 4,
 "nbformat_minor": 5
}
